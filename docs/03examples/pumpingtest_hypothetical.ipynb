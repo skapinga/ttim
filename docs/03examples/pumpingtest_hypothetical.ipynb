{
 "cells": [
  {
   "cell_type": "markdown",
   "metadata": {},
   "source": [
    "# Calibrating TTim model to hypothetical pumping test"
   ]
  },
  {
   "cell_type": "code",
   "execution_count": 1,
   "metadata": {},
   "outputs": [],
   "source": [
    "import matplotlib.pyplot as plt\n",
    "import numpy as np\n",
    "\n",
    "import ttim"
   ]
  },
  {
   "cell_type": "markdown",
   "metadata": {},
   "source": [
    "### Use observation times from Oude Korendijk"
   ]
  },
  {
   "cell_type": "code",
   "execution_count": 2,
   "metadata": {},
   "outputs": [],
   "source": [
    "drawdown = np.loadtxt(\"data/oudekorendijk_h30.dat\")\n",
    "tobs = drawdown[:, 0] / 60 / 24\n",
    "robs = 30\n",
    "Q = 788"
   ]
  },
  {
   "cell_type": "markdown",
   "metadata": {},
   "source": [
    "### Generate data"
   ]
  },
  {
   "cell_type": "code",
   "execution_count": 3,
   "metadata": {},
   "outputs": [
    {
     "name": "stdout",
     "output_type": "stream",
     "text": [
      "self.neq  1\n",
      "solution complete\n"
     ]
    }
   ],
   "source": [
    "ml = ttim.ModelMaq(kaq=60, z=(-18, -25), Saq=1e-4, tmin=1e-5, tmax=1)\n",
    "w = ttim.Well(ml, xw=0, yw=0, rw=0.1, tsandQ=[(0, 788)], layers=0)\n",
    "ml.solve()\n",
    "rnd = np.random.default_rng(2)\n",
    "hobs = ml.head(robs, 0, tobs)[0] + 0.05 * rnd.random(len(tobs))"
   ]
  },
  {
   "cell_type": "markdown",
   "metadata": {},
   "source": [
    "### See if TTim can find aquifer parameters back"
   ]
  },
  {
   "cell_type": "code",
   "execution_count": 4,
   "metadata": {},
   "outputs": [
    {
     "name": "stdout",
     "output_type": "stream",
     "text": [
      "......................................\n",
      "Fit succeeded.\n"
     ]
    }
   ],
   "source": [
    "cal = ttim.Calibrate(ml)\n",
    "cal.set_parameter(name=\"kaq0\", layers=0, initial=100)\n",
    "cal.set_parameter(name=\"Saq0\", layers=0, initial=1e-3)\n",
    "cal.series(name=\"obs1\", x=robs, y=0, layer=0, t=tobs, h=hobs)\n",
    "cal.fit()"
   ]
  },
  {
   "cell_type": "code",
   "execution_count": null,
   "metadata": {},
   "outputs": [
    {
     "data": {
      "text/html": [
       "<div>\n",
       "<style scoped>\n",
       "    .dataframe tbody tr th:only-of-type {\n",
       "        vertical-align: middle;\n",
       "    }\n",
       "\n",
       "    .dataframe tbody tr th {\n",
       "        vertical-align: top;\n",
       "    }\n",
       "\n",
       "    .dataframe thead th {\n",
       "        text-align: right;\n",
       "    }\n",
       "</style>\n",
       "<table border=\"1\" class=\"dataframe\">\n",
       "  <thead>\n",
       "    <tr style=\"text-align: right;\">\n",
       "      <th></th>\n",
       "      <th>layers</th>\n",
       "      <th>optimal</th>\n",
       "      <th>std</th>\n",
       "      <th>perc_std</th>\n",
       "      <th>pmin</th>\n",
       "      <th>pmax</th>\n",
       "      <th>initial</th>\n",
       "      <th>inhoms</th>\n",
       "      <th>parray</th>\n",
       "    </tr>\n",
       "  </thead>\n",
       "  <tbody>\n",
       "    <tr>\n",
       "      <th>kaq0</th>\n",
       "      <td>0</td>\n",
       "      <td>59.872220</td>\n",
       "      <td>0.664802</td>\n",
       "      <td>1.110368</td>\n",
       "      <td>-inf</td>\n",
       "      <td>inf</td>\n",
       "      <td>100.000</td>\n",
       "      <td>None</td>\n",
       "      <td>[[59.8722195401772]]</td>\n",
       "    </tr>\n",
       "    <tr>\n",
       "      <th>Saq0</th>\n",
       "      <td>0</td>\n",
       "      <td>0.000121</td>\n",
       "      <td>0.000004</td>\n",
       "      <td>3.593159</td>\n",
       "      <td>-inf</td>\n",
       "      <td>inf</td>\n",
       "      <td>0.001</td>\n",
       "      <td>None</td>\n",
       "      <td>[[0.00012118027249080507]]</td>\n",
       "    </tr>\n",
       "  </tbody>\n",
       "</table>\n",
       "</div>"
      ],
      "text/plain": [
       "      layers    optimal       std  perc_std  pmin  pmax  initial inhoms  \\\n",
       "kaq0       0  59.872220  0.664802  1.110368  -inf   inf  100.000   None   \n",
       "Saq0       0   0.000121  0.000004  3.593159  -inf   inf    0.001   None   \n",
       "\n",
       "                          parray  \n",
       "kaq0        [[59.8722195401772]]  \n",
       "Saq0  [[0.00012118027249080507]]  "
      ]
     },
     "execution_count": 5,
     "metadata": {},
     "output_type": "execute_result"
    }
   ],
   "source": [
    "cal.parameters"
   ]
  },
  {
   "cell_type": "code",
   "execution_count": 6,
   "metadata": {},
   "outputs": [
    {
     "name": "stdout",
     "output_type": "stream",
     "text": [
      "rmse: 0.014201296098047786\n"
     ]
    }
   ],
   "source": [
    "print(\"rmse:\", cal.rmse())"
   ]
  },
  {
   "cell_type": "code",
   "execution_count": 7,
   "metadata": {},
   "outputs": [
    {
     "data": {
      "image/png": "[encoded data removed]",
      "text/plain": [
       "<Figure size 640x480 with 1 Axes>"
      ]
     },
     "metadata": {},
     "output_type": "display_data"
    }
   ],
   "source": [
    "hm = ml.head(robs, 0, tobs, 0)\n",
    "plt.semilogx(tobs, hobs, \".k\")\n",
    "plt.semilogx(tobs, hm[0], \"r\");"
   ]
  },
  {
   "cell_type": "code",
   "execution_count": 8,
   "metadata": {},
   "outputs": [
    {
     "name": "stdout",
     "output_type": "stream",
     "text": [
      "correlation matrix\n",
      "[[ 4.41961549e-01 -2.45010327e-06]\n",
      " [-2.45010327e-06  1.89590585e-11]]\n"
     ]
    }
   ],
   "source": [
    "print(\"correlation matrix\")\n",
    "print(cal.fitresult.covar)"
   ]
  },
  {
   "cell_type": "markdown",
   "metadata": {},
   "source": [
    "Fit with `scipy.least_squares` (not recommended)"
   ]
  },
  {
   "cell_type": "code",
   "execution_count": 9,
   "metadata": {},
   "outputs": [
    {
     "name": "stdout",
     "output_type": "stream",
     "text": [
      "..........................................\n",
      "      layers    optimal       std  perc_std  pmin  pmax  initial inhoms  \\\n",
      "kaq0       0  59.870969  0.660661  1.103474  -inf   inf  100.000   None   \n",
      "Saq0       0   0.000121  0.000004  3.587586  -inf   inf    0.001   None   \n",
      "\n",
      "                          parray  \n",
      "kaq0       [[59.87096932924763]]  \n",
      "Saq0  [[0.00012119340200370668]]  \n",
      "[6.60660677e-01 4.34791694e-06]\n",
      "[[ 4.36472531e-01 -2.42866203e-06]\n",
      " [-2.42866203e-06  1.89043817e-11]]\n",
      "[[ 1.         -0.84548788]\n",
      " [-0.84548788  1.        ]]\n"
     ]
    }
   ],
   "source": [
    "cal = ttim.Calibrate(ml)\n",
    "cal.set_parameter(name=\"kaq0\", layers=0, initial=100)\n",
    "cal.set_parameter(name=\"Saq0\", layers=0, initial=1e-3)\n",
    "cal.series(name=\"obs1\", x=robs, y=0, layer=0, t=tobs, h=hobs)\n",
    "cal.fit_least_squares(report=True)"
   ]
  },
  {
   "cell_type": "markdown",
   "metadata": {},
   "source": [
    "## Calibrate parameters in multiple layers\n",
    "Example showing how parameters can be optimized when multiple layers share the same parameter value."
   ]
  },
  {
   "cell_type": "code",
   "execution_count": 10,
   "metadata": {},
   "outputs": [
    {
     "name": "stdout",
     "output_type": "stream",
     "text": [
      "self.neq  1\n",
      "solution complete\n"
     ]
    }
   ],
   "source": [
    "ml = ttim.ModelMaq(\n",
    "    kaq=[10.0, 10.0],\n",
    "    z=(-10, -16, -18, -25),\n",
    "    c=[10.0],\n",
    "    Saq=[0.1, 1e-4],\n",
    "    tmin=1e-5,\n",
    "    tmax=1,\n",
    ")\n",
    "w = ttim.Well(ml, xw=0, yw=0, rw=0.1, tsandQ=[(0, 788)], layers=1)\n",
    "ml.solve()\n",
    "hobs0 = ml.head(robs, 0, tobs, layers=[0])[0]\n",
    "hobs1 = ml.head(robs, 0, tobs, layers=[1])[0]"
   ]
  },
  {
   "cell_type": "code",
   "execution_count": 11,
   "metadata": {},
   "outputs": [
    {
     "data": {
      "text/html": [
       "<div>\n",
       "<style scoped>\n",
       "    .dataframe tbody tr th:only-of-type {\n",
       "        vertical-align: middle;\n",
       "    }\n",
       "\n",
       "    .dataframe tbody tr th {\n",
       "        vertical-align: top;\n",
       "    }\n",
       "\n",
       "    .dataframe thead th {\n",
       "        text-align: right;\n",
       "    }\n",
       "</style>\n",
       "<table border=\"1\" class=\"dataframe\">\n",
       "  <thead>\n",
       "    <tr style=\"text-align: right;\">\n",
       "      <th></th>\n",
       "      <th>layers</th>\n",
       "      <th>optimal</th>\n",
       "      <th>std</th>\n",
       "      <th>perc_std</th>\n",
       "      <th>pmin</th>\n",
       "      <th>pmax</th>\n",
       "      <th>initial</th>\n",
       "      <th>inhoms</th>\n",
       "      <th>parray</th>\n",
       "    </tr>\n",
       "  </thead>\n",
       "  <tbody>\n",
       "    <tr>\n",
       "      <th>kaq0</th>\n",
       "      <td>0</td>\n",
       "      <td>59.870969</td>\n",
       "      <td>0.660661</td>\n",
       "      <td>1.103474</td>\n",
       "      <td>-inf</td>\n",
       "      <td>inf</td>\n",
       "      <td>100.000</td>\n",
       "      <td>None</td>\n",
       "      <td>[[59.87096932924763]]</td>\n",
       "    </tr>\n",
       "    <tr>\n",
       "      <th>Saq0</th>\n",
       "      <td>0</td>\n",
       "      <td>0.000121</td>\n",
       "      <td>0.000004</td>\n",
       "      <td>3.587586</td>\n",
       "      <td>-inf</td>\n",
       "      <td>inf</td>\n",
       "      <td>0.001</td>\n",
       "      <td>None</td>\n",
       "      <td>[[0.00012119340200370668]]</td>\n",
       "    </tr>\n",
       "  </tbody>\n",
       "</table>\n",
       "</div>"
      ],
      "text/plain": [
       "      layers    optimal       std  perc_std  pmin  pmax  initial inhoms  \\\n",
       "kaq0       0  59.870969  0.660661  1.103474  -inf   inf  100.000   None   \n",
       "Saq0       0   0.000121  0.000004  3.587586  -inf   inf    0.001   None   \n",
       "\n",
       "                          parray  \n",
       "kaq0       [[59.87096932924763]]  \n",
       "Saq0  [[0.00012119340200370668]]  "
      ]
     },
     "execution_count": 11,
     "metadata": {},
     "output_type": "execute_result"
    }
   ],
   "source": [
    "cal.parameters"
   ]
  },
  {
   "cell_type": "code",
   "execution_count": 12,
   "metadata": {},
   "outputs": [
    {
     "name": "stdout",
     "output_type": "stream",
     "text": [
      "........................................................................................................................................................................................................................................................................\n",
      "Fit succeeded.\n"
     ]
    },
    {
     "data": {
      "text/html": [
       "<div>\n",
       "<style scoped>\n",
       "    .dataframe tbody tr th:only-of-type {\n",
       "        vertical-align: middle;\n",
       "    }\n",
       "\n",
       "    .dataframe tbody tr th {\n",
       "        vertical-align: top;\n",
       "    }\n",
       "\n",
       "    .dataframe thead th {\n",
       "        text-align: right;\n",
       "    }\n",
       "</style>\n",
       "<table border=\"1\" class=\"dataframe\">\n",
       "  <thead>\n",
       "    <tr style=\"text-align: right;\">\n",
       "      <th></th>\n",
       "      <th>layers</th>\n",
       "      <th>optimal</th>\n",
       "      <th>std</th>\n",
       "      <th>perc_std</th>\n",
       "      <th>pmin</th>\n",
       "      <th>pmax</th>\n",
       "      <th>initial</th>\n",
       "      <th>inhoms</th>\n",
       "      <th>parray</th>\n",
       "    </tr>\n",
       "  </thead>\n",
       "  <tbody>\n",
       "    <tr>\n",
       "      <th>kaq0_1</th>\n",
       "      <td>[0, 1]</td>\n",
       "      <td>10.130195</td>\n",
       "      <td>4.689855e-02</td>\n",
       "      <td>0.462958</td>\n",
       "      <td>0.00000</td>\n",
       "      <td>30.0</td>\n",
       "      <td>20.000</td>\n",
       "      <td>None</td>\n",
       "      <td>[[10.130194909204622, 10.130194909204622]]</td>\n",
       "    </tr>\n",
       "    <tr>\n",
       "      <th>Saq0</th>\n",
       "      <td>0</td>\n",
       "      <td>0.096368</td>\n",
       "      <td>2.355190e-05</td>\n",
       "      <td>0.024440</td>\n",
       "      <td>0.00001</td>\n",
       "      <td>0.2</td>\n",
       "      <td>0.001</td>\n",
       "      <td>None</td>\n",
       "      <td>[[0.0963678822146849]]</td>\n",
       "    </tr>\n",
       "    <tr>\n",
       "      <th>Saq1</th>\n",
       "      <td>1</td>\n",
       "      <td>0.000100</td>\n",
       "      <td>1.921262e-07</td>\n",
       "      <td>0.191284</td>\n",
       "      <td>0.00001</td>\n",
       "      <td>0.2</td>\n",
       "      <td>0.001</td>\n",
       "      <td>None</td>\n",
       "      <td>[[0.00010044020713458453]]</td>\n",
       "    </tr>\n",
       "    <tr>\n",
       "      <th>c1</th>\n",
       "      <td>1</td>\n",
       "      <td>10.031197</td>\n",
       "      <td>1.512531e-02</td>\n",
       "      <td>0.150783</td>\n",
       "      <td>0.10000</td>\n",
       "      <td>200.0</td>\n",
       "      <td>1.000</td>\n",
       "      <td>None</td>\n",
       "      <td>[[10.031197091839656]]</td>\n",
       "    </tr>\n",
       "  </tbody>\n",
       "</table>\n",
       "</div>"
      ],
      "text/plain": [
       "        layers    optimal           std  perc_std     pmin   pmax  initial  \\\n",
       "kaq0_1  [0, 1]  10.130195  4.689855e-02  0.462958  0.00000   30.0   20.000   \n",
       "Saq0         0   0.096368  2.355190e-05  0.024440  0.00001    0.2    0.001   \n",
       "Saq1         1   0.000100  1.921262e-07  0.191284  0.00001    0.2    0.001   \n",
       "c1           1  10.031197  1.512531e-02  0.150783  0.10000  200.0    1.000   \n",
       "\n",
       "       inhoms                                      parray  \n",
       "kaq0_1   None  [[10.130194909204622, 10.130194909204622]]  \n",
       "Saq0     None                      [[0.0963678822146849]]  \n",
       "Saq1     None                  [[0.00010044020713458453]]  \n",
       "c1       None                      [[10.031197091839656]]  "
      ]
     },
     "metadata": {},
     "output_type": "display_data"
    }
   ],
   "source": [
    "cal = ttim.Calibrate(ml)\n",
    "cal.set_parameter(\n",
    "    name=\"kaq0_1\", layers=[0, 1], initial=20.0, pmin=0.0, pmax=30.0\n",
    ")  # layers 0 and 1 have the same k-value\n",
    "cal.set_parameter(name=\"Saq0\", layers=0, initial=1e-3, pmin=1e-5, pmax=0.2)\n",
    "cal.set_parameter(name=\"Saq1\", layers=1, initial=1e-3, pmin=1e-5, pmax=0.2)\n",
    "cal.set_parameter(name=\"c1\", layers=1, initial=1.0, pmin=0.1, pmax=200.0)\n",
    "cal.series(name=\"obs0\", x=robs, y=0, layer=0, t=tobs, h=hobs0)\n",
    "cal.series(name=\"obs1\", x=robs, y=0, layer=1, t=tobs, h=hobs1)\n",
    "cal.fit(report=False)\n",
    "display(cal.parameters)"
   ]
  },
  {
   "cell_type": "code",
   "execution_count": 13,
   "metadata": {},
   "outputs": [
    {
     "data": {
      "image/png": "[encoded data removed]",
      "text/plain": [
       "<Figure size 640x480 with 1 Axes>"
      ]
     },
     "metadata": {},
     "output_type": "display_data"
    }
   ],
   "source": [
    "plt.semilogx(tobs, hobs0, \".C0\", label=\"obs layer 0\")\n",
    "plt.semilogx(tobs, hobs1, \".C1\", label=\"obs layer 1\")\n",
    "\n",
    "hm = ml.head(robs, 0, tobs)\n",
    "plt.semilogx(tobs, hm[0], \"C0\", label=\"modelled head layer 0\")\n",
    "plt.semilogx(tobs, hm[1], \"C1\", label=\"modelled head layer 1\")\n",
    "\n",
    "plt.legend(loc=\"best\");"
   ]
  },
  {
   "cell_type": "markdown",
   "metadata": {},
   "source": [
    "### Generate data for head measured in well"
   ]
  },
  {
   "cell_type": "code",
   "execution_count": 14,
   "metadata": {},
   "outputs": [],
   "source": [
    "tobs2 = np.hstack((tobs, np.arange(0.61, 1, 0.01)))"
   ]
  },
  {
   "cell_type": "code",
   "execution_count": 15,
   "metadata": {},
   "outputs": [
    {
     "name": "stdout",
     "output_type": "stream",
     "text": [
      "self.neq  1\n",
      "solution complete\n"
     ]
    }
   ],
   "source": [
    "ml = ttim.ModelMaq(kaq=60, z=(-18, -25), Saq=1e-4, tmin=1e-5, tmax=1)\n",
    "w = ttim.Well(ml, xw=0, yw=0, rw=0.3, res=0.02, tsandQ=[(0, 788), (0.6, 0)], layers=0)\n",
    "ml.solve()\n",
    "rnd = np.random.default_rng(2)\n",
    "hobs2 = w.headinside(tobs2)[0] + 0.05 * rnd.random(len(tobs2))"
   ]
  },
  {
   "cell_type": "code",
   "execution_count": 16,
   "metadata": {},
   "outputs": [
    {
     "name": "stdout",
     "output_type": "stream",
     "text": [
      "...............................................\n",
      "Fit succeeded.\n"
     ]
    }
   ],
   "source": [
    "cal = ttim.Calibrate(ml)\n",
    "cal.set_parameter(name=\"kaq0\", layers=0, initial=100)\n",
    "cal.set_parameter(name=\"Saq0\", layers=0, initial=1e-3)\n",
    "cal.set_parameter_by_reference(name=\"res\", parameter=w.res[:], initial=0.05)\n",
    "cal.seriesinwell(name=\"obs1\", element=w, t=tobs2, h=hobs2)\n",
    "cal.fit()"
   ]
  },
  {
   "cell_type": "code",
   "execution_count": 17,
   "metadata": {},
   "outputs": [
    {
     "data": {
      "image/png": "[encoded data removed]",
      "text/plain": [
       "<Figure size 640x480 with 1 Axes>"
      ]
     },
     "metadata": {},
     "output_type": "display_data"
    }
   ],
   "source": [
    "hm = w.headinside(tobs2)\n",
    "plt.semilogx(tobs2, hobs2, \".k\")\n",
    "plt.semilogx(tobs2, hm[0], \"r\");"
   ]
  },
  {
   "cell_type": "code",
   "execution_count": null,
   "metadata": {},
   "outputs": [],
   "source": []
  }
 ],
 "metadata": {
  "kernelspec": {
   "display_name": ".venv",
   "language": "python",
   "name": "python3"
  },
  "language_info": {
   "codemirror_mode": {
    "name": "ipython",
    "version": 3
   },
   "file_extension": ".py",
   "mimetype": "text/x-python",
   "name": "python",
   "nbconvert_exporter": "python",
   "pygments_lexer": "ipython3",
   "version": "3.12.3"
  },
  "latex_envs": {
   "LaTeX_envs_menu_present": true,
   "autoclose": false,
   "autocomplete": true,
   "bibliofile": "biblio.bib",
   "cite_by": "apalike",
   "current_citInitial": 1,
   "eqLabelWithNumbers": true,
   "eqNumInitial": 1,
   "hotkeys": {
    "equation": "Ctrl-E",
    "itemize": "Ctrl-I"
   },
   "labels_anchors": false,
   "latex_user_defs": false,
   "report_style_numbering": false,
   "user_envs_cfg": false
  },
  "varInspector": {
   "cols": {
    "lenName": 16,
    "lenType": 16,
    "lenVar": 40
   },
   "kernels_config": {
    "python": {
     "delete_cmd_postfix": "",
     "delete_cmd_prefix": "del ",
     "library": "var_list.py",
     "varRefreshCmd": "print(var_dic_list())"
    },
    "r": {
     "delete_cmd_postfix": ") ",
     "delete_cmd_prefix": "rm(",
     "library": "var_list.r",
     "varRefreshCmd": "cat(var_dic_list()) "
    }
   },
   "types_to_exclude": [
    "module",
    "function",
    "builtin_function_or_method",
    "instance",
    "_Feature"
   ],
   "window_display": false
  }
 },
 "nbformat": 4,
 "nbformat_minor": 4
}
