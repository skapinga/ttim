{
 "cells": [
  {
   "cell_type": "markdown",
   "metadata": {},
   "source": [
    "## Specific storage and consolidation\n",
    "\n",
    "From \"Waterspanningen bij dijken\", section b4.2 and b4.3 \n",
    "\n",
    "Specific elastic storage is defined by:\n",
    "\n",
    "$$S_{s} = \\rho_{w} g (m_{v} + \\eta \\beta)$$\n",
    "\n",
    "with:\n",
    "\n",
    "- $\\rho_{w}$ : specific weight of water [kg/m³], normal 1000 kg/m³\n",
    "- $g$        : gravety constant (9.81 m/s²)\n",
    "- $m_{v}$    : compressibility  of soil [m²/N]\n",
    "- $\\eta$     : porosity [-]\n",
    "- $\\beta$    : compressibility of water [m²/N]\n",
    "\n",
    "## Consolidation coefficient\n",
    "\n",
    "The consolidation coefficient $c_{v}$,\n",
    "\n",
    "$$c_{v} = \\frac{k}{\\rho_{w} g (m_{v} + \\eta \\beta)} = \\frac{k}{S_{s}}$$\n",
    "\n",
    "substituting $k = \\frac{d}{c}$ leads to\n",
    "\n",
    "$$c_{v} = \\frac{d}{c S_{s}}$$\n"
   ]
  }
 ],
 "metadata": {
  "language_info": {
   "name": "python"
  }
 },
 "nbformat": 4,
 "nbformat_minor": 2
}
